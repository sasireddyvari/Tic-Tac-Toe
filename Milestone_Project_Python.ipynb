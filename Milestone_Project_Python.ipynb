{
  "nbformat": 4,
  "nbformat_minor": 0,
  "metadata": {
    "colab": {
      "name": "Milestone_Project_Python.ipynb",
      "provenance": [],
      "collapsed_sections": [],
      "authorship_tag": "ABX9TyNEA+0bIpyYZxXJjaZUS9Ac",
      "include_colab_link": true
    },
    "kernelspec": {
      "name": "python3",
      "display_name": "Python 3"
    }
  },
  "cells": [
    {
      "cell_type": "markdown",
      "metadata": {
        "id": "view-in-github",
        "colab_type": "text"
      },
      "source": [
        "<a href=\"https://colab.research.google.com/github/sasireddyvari/Tic-Tac-Toe/blob/master/Milestone_Project_Python.ipynb\" target=\"_parent\"><img src=\"https://colab.research.google.com/assets/colab-badge.svg\" alt=\"Open In Colab\"/></a>"
      ]
    },
    {
      "cell_type": "markdown",
      "metadata": {
        "id": "Gm3XHbHdPuTe"
      },
      "source": [
        "**Tic Tac Toe**"
      ]
    },
    {
      "cell_type": "markdown",
      "metadata": {
        "id": "N-h4VkkTP5z9"
      },
      "source": [
        "Step 1: Write a function that can print out a board. Set up your board as a list, where each index 1-9 corresponds with a number on a number pad, so you get a 3 by 3 board representation."
      ]
    },
    {
      "cell_type": "code",
      "metadata": {
        "id": "iEwth58EPVG6"
      },
      "source": [
        "from IPython.display import clear_output"
      ],
      "execution_count": 23,
      "outputs": []
    },
    {
      "cell_type": "code",
      "metadata": {
        "id": "6r1xMClBQM3U"
      },
      "source": [
        "def display_board(board):\r\n",
        "  clear_output()\r\n",
        "  print('   |   |')\r\n",
        "  print(' ' + board[1] + ' | ' + board[2] + ' | ' + board[3])\r\n",
        "  print('   |   |')\r\n",
        "  print('-----------')\r\n",
        "  print('   |   |')\r\n",
        "  print(' ' + board[4] + ' | ' + board[5] + ' | ' + board[6])\r\n",
        "  print('   |   |')\r\n",
        "  print('-----------')\r\n",
        "  print('   |   |')\r\n",
        "  print(' ' + board[7] + ' | ' + board[8] + ' | ' + board[9])\r\n",
        "  print('   |   |')"
      ],
      "execution_count": 24,
      "outputs": []
    },
    {
      "cell_type": "code",
      "metadata": {
        "colab": {
          "base_uri": "https://localhost:8080/"
        },
        "id": "g8DZ4kSGRWrZ",
        "outputId": "f8b3ff66-875b-49a8-e8d1-fd5da73c0cea"
      },
      "source": [
        "test_board = ['*','X','O','X','O','X','O','X','O','X']\r\n",
        "display_board(test_board)"
      ],
      "execution_count": 25,
      "outputs": [
        {
          "output_type": "stream",
          "text": [
            "   |   |\n",
            " X | O | X\n",
            "   |   |\n",
            "-----------\n",
            "   |   |\n",
            " O | X | O\n",
            "   |   |\n",
            "-----------\n",
            "   |   |\n",
            " X | O | X\n",
            "   |   |\n"
          ],
          "name": "stdout"
        }
      ]
    },
    {
      "cell_type": "markdown",
      "metadata": {
        "id": "tF5tOiBESNSh"
      },
      "source": [
        "Step 2: Write a function that can take in a player input and assign their marker as 'X' or 'O'. Think about using while loops to continually ask until you get a correct answer."
      ]
    },
    {
      "cell_type": "code",
      "metadata": {
        "id": "7MVguWVjRXRb"
      },
      "source": [
        "def player_input():\r\n",
        "  marker=\"\"\r\n",
        "  \r\n",
        "  while not(marker=='X' or marker==\"O\"): # To go inside until conditon become true. Now it enters inside if it is false\r\n",
        "    marker=input('Player1: Do you want to be X or O: ? ').upper()\r\n",
        "  \r\n",
        "  if marker=='X':\r\n",
        "    return (\"X\",\"O\")\r\n",
        "  else:\r\n",
        "    return (\"O\",\"X\")"
      ],
      "execution_count": 78,
      "outputs": []
    },
    {
      "cell_type": "code",
      "metadata": {
        "colab": {
          "base_uri": "https://localhost:8080/"
        },
        "id": "BKH8_TEAUUfD",
        "outputId": "afc73c3d-cae2-48e2-d162-20aaa394cc8e"
      },
      "source": [
        "player_input()"
      ],
      "execution_count": 27,
      "outputs": [
        {
          "output_type": "stream",
          "text": [
            "Player1: Do you want to be X or O: ? \n",
            "Player1: Do you want to be X or O: ? X\n"
          ],
          "name": "stdout"
        },
        {
          "output_type": "execute_result",
          "data": {
            "text/plain": [
              "('Player1 : X', 'Player2 : O')"
            ]
          },
          "metadata": {
            "tags": []
          },
          "execution_count": 27
        }
      ]
    },
    {
      "cell_type": "markdown",
      "metadata": {
        "id": "txcI0mRQUvG1"
      },
      "source": [
        "Step 3: Write a function that takes in the board list object, a marker ('X' or 'O'), and a desired position (number 1-9) and assigns it to the board."
      ]
    },
    {
      "cell_type": "code",
      "metadata": {
        "id": "avdkQaimUbEa"
      },
      "source": [
        "def place_marker(board, marker, position):\r\n",
        "    board[position] = marker "
      ],
      "execution_count": 28,
      "outputs": []
    },
    {
      "cell_type": "code",
      "metadata": {
        "colab": {
          "base_uri": "https://localhost:8080/"
        },
        "id": "B1qIEqGUU79P",
        "outputId": "65225282-60be-4346-a28d-eb1176e09d2b"
      },
      "source": [
        "place_marker(test_board,'$',5)\r\n",
        "display_board(test_board)"
      ],
      "execution_count": 29,
      "outputs": [
        {
          "output_type": "stream",
          "text": [
            "   |   |\n",
            " X | O | X\n",
            "   |   |\n",
            "-----------\n",
            "   |   |\n",
            " O | $ | O\n",
            "   |   |\n",
            "-----------\n",
            "   |   |\n",
            " X | O | X\n",
            "   |   |\n"
          ],
          "name": "stdout"
        }
      ]
    },
    {
      "cell_type": "markdown",
      "metadata": {
        "id": "DpHx4dq3VQUA"
      },
      "source": [
        "\r\n",
        "Step 4: Write a function that takes in a board and checks to see if someone has won."
      ]
    },
    {
      "cell_type": "code",
      "metadata": {
        "id": "CWrnWrq0VCTs"
      },
      "source": [
        "def win_check(board,mark): # Since 9 positions , 3 rows, 3 colums, and two diagonals are winning scenarios\r\n",
        "  return ((board[7] == mark and board[8] == mark and board[9] == mark) or # across the top\r\n",
        "    (board[4] == mark and board[5] == mark and board[6] == mark) or # across the middle\r\n",
        "    (board[1] == mark and board[2] == mark and board[3] == mark) or # across the bottom\r\n",
        "    (board[7] == mark and board[4] == mark and board[1] == mark) or # down the middle\r\n",
        "    (board[8] == mark and board[5] == mark and board[2] == mark) or # down the middle\r\n",
        "    (board[9] == mark and board[6] == mark and board[3] == mark) or # down the right side\r\n",
        "    (board[7] == mark and board[5] == mark and board[3] == mark) or # diagonal\r\n",
        "    (board[9] == mark and board[5] == mark and board[1] == mark)) # diagonal"
      ],
      "execution_count": 20,
      "outputs": []
    },
    {
      "cell_type": "code",
      "metadata": {
        "colab": {
          "base_uri": "https://localhost:8080/"
        },
        "id": "x5XglmbSWDhG",
        "outputId": "7cb0c5d0-09f4-48ca-9bf2-8f294a7057ac"
      },
      "source": [
        "place_marker(test_board,'O',5)\r\n",
        "display_board(test_board)"
      ],
      "execution_count": 32,
      "outputs": [
        {
          "output_type": "stream",
          "text": [
            "   |   |\n",
            " X | O | X\n",
            "   |   |\n",
            "-----------\n",
            "   |   |\n",
            " O | O | O\n",
            "   |   |\n",
            "-----------\n",
            "   |   |\n",
            " X | O | X\n",
            "   |   |\n"
          ],
          "name": "stdout"
        }
      ]
    },
    {
      "cell_type": "code",
      "metadata": {
        "colab": {
          "base_uri": "https://localhost:8080/"
        },
        "id": "W5wywIW2WV2f",
        "outputId": "71004c6c-5736-4f70-f93e-4e761f61ddc3"
      },
      "source": [
        "win_check(test_board,'O')"
      ],
      "execution_count": 34,
      "outputs": [
        {
          "output_type": "execute_result",
          "data": {
            "text/plain": [
              "True"
            ]
          },
          "metadata": {
            "tags": []
          },
          "execution_count": 34
        }
      ]
    },
    {
      "cell_type": "code",
      "metadata": {
        "colab": {
          "base_uri": "https://localhost:8080/"
        },
        "id": "psmm2DWyWzjG",
        "outputId": "81484d75-7fd0-4e28-8247-e363648bb2d0"
      },
      "source": [
        "win_check(test_board,'X')"
      ],
      "execution_count": 35,
      "outputs": [
        {
          "output_type": "execute_result",
          "data": {
            "text/plain": [
              "False"
            ]
          },
          "metadata": {
            "tags": []
          },
          "execution_count": 35
        }
      ]
    },
    {
      "cell_type": "markdown",
      "metadata": {
        "id": "XRV2wt8dW-SH"
      },
      "source": [
        "Step 5: Write a function that uses the random module to randomly decide which player goes first. You may want to lookup random.randint() Return a string of which player went first"
      ]
    },
    {
      "cell_type": "code",
      "metadata": {
        "id": "aFPzwRJlW4v-"
      },
      "source": [
        "import random\r\n",
        "def choose_first():\r\n",
        "  if random.randint(0, 1) == 0:\r\n",
        "    return 'Player 2'\r\n",
        "  else:\r\n",
        "    return 'Player 1'"
      ],
      "execution_count": 37,
      "outputs": []
    },
    {
      "cell_type": "code",
      "metadata": {
        "colab": {
          "base_uri": "https://localhost:8080/",
          "height": 35
        },
        "id": "Mzz5k7OwXDiJ",
        "outputId": "d801c87c-13ca-4328-fb23-c4ef482ef915"
      },
      "source": [
        "choose_first()"
      ],
      "execution_count": 40,
      "outputs": [
        {
          "output_type": "execute_result",
          "data": {
            "application/vnd.google.colaboratory.intrinsic+json": {
              "type": "string"
            },
            "text/plain": [
              "'Player 2'"
            ]
          },
          "metadata": {
            "tags": []
          },
          "execution_count": 40
        }
      ]
    },
    {
      "cell_type": "markdown",
      "metadata": {
        "id": "tAvDZ5IAYMpM"
      },
      "source": [
        "Step 6: Write a function that returns a boolean indicating whether a space on the board is freely available."
      ]
    },
    {
      "cell_type": "code",
      "metadata": {
        "id": "nR6wWDnCYJ30"
      },
      "source": [
        "def space_check(board,position):\r\n",
        "  try:\r\n",
        "    return board[position] == ' '\r\n",
        "  except IndexError:\r\n",
        "    print(\"Attention, please! The Board defined is 3*3 size. Please enter the positions limited to the board\")  "
      ],
      "execution_count": 59,
      "outputs": []
    },
    {
      "cell_type": "markdown",
      "metadata": {
        "id": "N8M2TNJnYb7S"
      },
      "source": [
        "\r\n",
        "Step 7: Write a function that checks if the board is full and returns a boolean value. True if full, False otherwise."
      ]
    },
    {
      "cell_type": "code",
      "metadata": {
        "id": "9RondGqzYZZH"
      },
      "source": [
        "def full_board_check(board):\r\n",
        "  for i in range(1,10):\r\n",
        "    if space_check(board, i):\r\n",
        "      return False\r\n",
        "  return True"
      ],
      "execution_count": 42,
      "outputs": []
    },
    {
      "cell_type": "code",
      "metadata": {
        "colab": {
          "base_uri": "https://localhost:8080/"
        },
        "id": "F4ICLwGQZbyd",
        "outputId": "31a443da-b9d6-4442-a98d-d19738832526"
      },
      "source": [
        "full_board_check(test_board) # Iplies board is full"
      ],
      "execution_count": 44,
      "outputs": [
        {
          "output_type": "execute_result",
          "data": {
            "text/plain": [
              "True"
            ]
          },
          "metadata": {
            "tags": []
          },
          "execution_count": 44
        }
      ]
    },
    {
      "cell_type": "markdown",
      "metadata": {
        "id": "k_LXCN_YZl_L"
      },
      "source": [
        "Step 8: Write a function that asks for a player's next position (as a number 1-9) and then uses the function from step 6 to check if its a free position. If it is, then return the position for later use."
      ]
    },
    {
      "cell_type": "code",
      "metadata": {
        "id": "USOFZLaJZmki"
      },
      "source": [
        "def player_choice(board):\r\n",
        "    position = 0\r\n",
        "    \r\n",
        "    while position not in [1, 2, 3, 4, 5, 6, 7, 8, 9] or not space_check(board, position):\r\n",
        "      position = int(input('Choose your next position in between (1-9) :'))\r\n",
        "      # if position > 9:\r\n",
        "      #   print('Attention, please! The Board defined is 3*3 size. Please enter the positions limited to the board')\r\n",
        "      \r\n",
        "    return position"
      ],
      "execution_count": 80,
      "outputs": []
    },
    {
      "cell_type": "code",
      "metadata": {
        "colab": {
          "base_uri": "https://localhost:8080/"
        },
        "id": "YHwbySaXagAd",
        "outputId": "fb47d00b-ac10-4567-b622-32160a8feb45"
      },
      "source": [
        "place_marker(test_board,' ',5)\r\n",
        "display_board(test_board)"
      ],
      "execution_count": 62,
      "outputs": [
        {
          "output_type": "stream",
          "text": [
            "   |   |\n",
            " X | O | X\n",
            "   |   |\n",
            "-----------\n",
            "   |   |\n",
            " O |   | O\n",
            "   |   |\n",
            "-----------\n",
            "   |   |\n",
            " X | O | X\n",
            "   |   |\n"
          ],
          "name": "stdout"
        }
      ]
    },
    {
      "cell_type": "code",
      "metadata": {
        "colab": {
          "base_uri": "https://localhost:8080/"
        },
        "id": "6PTFOY7xZgHH",
        "outputId": "a52dcb2d-5f46-4d14-bedf-22506b70250f"
      },
      "source": [
        "player_choice(test_board)"
      ],
      "execution_count": 65,
      "outputs": [
        {
          "output_type": "stream",
          "text": [
            "Choose your next position in between (1-9) :6\n",
            "Choose your next position in between (1-9) :9\n",
            "Choose your next position in between (1-9) :12\n",
            "Please enter the position values according to the board dimensions\n",
            "Choose your next position in between (1-9) :884\n",
            "Please enter the position values according to the board dimensions\n",
            "Choose your next position in between (1-9) :8\n",
            "Choose your next position in between (1-9) :5\n",
            "The position is not empty\n"
          ],
          "name": "stdout"
        },
        {
          "output_type": "execute_result",
          "data": {
            "text/plain": [
              "5"
            ]
          },
          "metadata": {
            "tags": []
          },
          "execution_count": 65
        }
      ]
    },
    {
      "cell_type": "markdown",
      "metadata": {
        "id": "ZsXmqDFpbBbZ"
      },
      "source": [
        "Step 9: Write a function that asks the player if they want to play again and returns a boolean True if they do want to play again."
      ]
    },
    {
      "cell_type": "code",
      "metadata": {
        "id": "VtUloFw_aBJc"
      },
      "source": [
        "def replay():\r\n",
        "    return input('Do you want to play again? Enter Yes or No: ').lower().startswith('y')"
      ],
      "execution_count": 82,
      "outputs": []
    },
    {
      "cell_type": "markdown",
      "metadata": {
        "id": "L2XkRUNobf30"
      },
      "source": [
        "Step 10: Here comes the hard part! Use while loops and the functions you've made to run the game!"
      ]
    },
    {
      "cell_type": "code",
      "metadata": {
        "colab": {
          "base_uri": "https://localhost:8080/"
        },
        "id": "nBfTRmXMiF2V",
        "outputId": "8f1dad74-ec74-4bd7-fc28-a80a9a66a5e1"
      },
      "source": [
        "from termcolor import colored\r\n",
        "print(colored('Welcome to Tic Tac Toe!', 'green', attrs=['bold']))\r\n",
        "\r\n",
        "while True:\r\n",
        "  # Reset the board\r\n",
        "  theBoard = [' '] * 10\r\n",
        "\r\n",
        "  player1_marker, player2_marker = player_input()\r\n",
        "  turn = choose_first()\r\n",
        "  print(turn + ' will go first.')\r\n",
        "\r\n",
        "  play_game = input('Are you ready to play? Enter Yes or No.')\r\n",
        "\r\n",
        "  if play_game.lower()[0] == 'y':\r\n",
        "    game_on = True\r\n",
        "  else:\r\n",
        "    game_on = False\r\n",
        "\r\n",
        "  while game_on:\r\n",
        "    if turn == 'Player 1':\r\n",
        "      # Player1's turn.\r\n",
        "      display_board(theBoard)\r\n",
        "      position=player_choice(theBoard)\r\n",
        "      place_marker(theBoard, player1_marker, position)\r\n",
        "      \r\n",
        "      if win_check(theBoard,player1_marker):\r\n",
        "        display_board(theBoard)\r\n",
        "        print('Congratulations! You have won the game!')\r\n",
        "        game_on=False\r\n",
        "      else:\r\n",
        "        if full_board_check(theBoard):\r\n",
        "          display_board(theBoard)\r\n",
        "          print('The game is a draw!')\r\n",
        "          break\r\n",
        "        else:\r\n",
        "          turn = 'Player 2'\r\n",
        "    else:\r\n",
        "      # Player2's turn.\r\n",
        "      display_board(theBoard)\r\n",
        "      position=player_choice(theBoard)\r\n",
        "      place_marker(theBoard, player2_marker, position)\r\n",
        "      \r\n",
        "      if win_check(theBoard,player2_marker):\r\n",
        "        display_board(theBoard)\r\n",
        "        print('Congratulations! You have won the game!')\r\n",
        "        game_on=False\r\n",
        "      else:\r\n",
        "        if full_board_check(theBoard):\r\n",
        "          display_board(theBoard)\r\n",
        "          print('The game is a draw!')\r\n",
        "          break\r\n",
        "        else:\r\n",
        "          turn = 'Player 1'\r\n",
        "\r\n",
        "  if not replay():\r\n",
        "    break"
      ],
      "execution_count": 84,
      "outputs": [
        {
          "output_type": "stream",
          "text": [
            "   |   |\n",
            " X | X | X\n",
            "   |   |\n",
            "-----------\n",
            "   |   |\n",
            " O | O | X\n",
            "   |   |\n",
            "-----------\n",
            "   |   |\n",
            " O | X | O\n",
            "   |   |\n",
            "Congratulations! You have won the game!\n",
            "Do you want to play again? Enter Yes or No: No\n"
          ],
          "name": "stdout"
        }
      ]
    },
    {
      "cell_type": "code",
      "metadata": {
        "id": "Us_LGFSIbY61"
      },
      "source": [
        ""
      ],
      "execution_count": null,
      "outputs": []
    },
    {
      "cell_type": "code",
      "metadata": {
        "id": "oRhpq6aMbY4n"
      },
      "source": [
        ""
      ],
      "execution_count": null,
      "outputs": []
    },
    {
      "cell_type": "code",
      "metadata": {
        "id": "dcRsELdabY2p"
      },
      "source": [
        ""
      ],
      "execution_count": null,
      "outputs": []
    },
    {
      "cell_type": "code",
      "metadata": {
        "id": "P4jvI2BobY0b"
      },
      "source": [
        ""
      ],
      "execution_count": null,
      "outputs": []
    },
    {
      "cell_type": "code",
      "metadata": {
        "id": "QtABL5z0bYyb"
      },
      "source": [
        ""
      ],
      "execution_count": null,
      "outputs": []
    }
  ]
}